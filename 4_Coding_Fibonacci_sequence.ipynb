{
  "nbformat": 4,
  "nbformat_minor": 0,
  "metadata": {
    "colab": {
      "provenance": []
    },
    "kernelspec": {
      "name": "python3",
      "display_name": "Python 3"
    },
    "language_info": {
      "name": "python"
    }
  },
  "cells": [
    {
      "cell_type": "code",
      "execution_count": 1,
      "metadata": {
        "colab": {
          "base_uri": "https://localhost:8080/"
        },
        "id": "LNfY62BBPxwU",
        "outputId": "c760c806-3d5c-45c2-d7fc-d37abfa6f327"
      },
      "outputs": [
        {
          "output_type": "stream",
          "name": "stdout",
          "text": [
            "Enter the number of terms: 7\n",
            "Fibonacci sequence: [0, 1, 1, 2, 3, 5, 8]\n"
          ]
        }
      ],
      "source": [
        "def fibonacci(n):\n",
        "    fib_sequence = []\n",
        "    a, b = 0, 1  # Starting values\n",
        "\n",
        "    for _ in range(n):\n",
        "        fib_sequence.append(a)\n",
        "        a, b = b, a + b\n",
        "\n",
        "    return fib_sequence\n",
        "\n",
        "# Input - number of terms in sequence\n",
        "terms = int(input(\"Enter the number of terms: \"))\n",
        "\n",
        "# Output - sequence up to the number of terms\n",
        "if terms <= 0:\n",
        "    print(\"Enter a positive integer.\")\n",
        "else:\n",
        "    print(\"Fibonacci sequence:\", fibonacci(terms))"
      ]
    }
  ]
}