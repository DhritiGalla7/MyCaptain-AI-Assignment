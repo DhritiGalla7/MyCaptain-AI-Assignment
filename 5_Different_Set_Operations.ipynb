{
  "nbformat": 4,
  "nbformat_minor": 0,
  "metadata": {
    "colab": {
      "provenance": []
    },
    "kernelspec": {
      "name": "python3",
      "display_name": "Python 3"
    },
    "language_info": {
      "name": "python"
    }
  },
  "cells": [
    {
      "cell_type": "code",
      "execution_count": 1,
      "metadata": {
        "colab": {
          "base_uri": "https://localhost:8080/"
        },
        "id": "d2R6x_cnlYYE",
        "outputId": "ffd4b943-ee4f-46ea-af6d-99c35eeef932"
      },
      "outputs": [
        {
          "output_type": "stream",
          "name": "stdout",
          "text": [
            "Union of E and N is {0, 1, 2, 3, 4, 5, 6, 8}\n",
            "Intersection of E and N is {2, 4}\n",
            "Difference of E and N is {0, 8, 6}\n",
            "Symmetric difference of E and N is {0, 1, 3, 5, 6, 8}\n"
          ]
        }
      ],
      "source": [
        "# 2 sets\n",
        "E = {0, 2, 4, 6, 8}\n",
        "N = {1, 2, 3, 4, 5}\n",
        "\n",
        "union_set = E | N  # union of E and N\n",
        "intersection_set = E & N  # intersection of E and N\n",
        "difference_set = E - N  # difference of E and N\n",
        "symmetric_difference_set = E ^ N  # symmetric difference of E and N\n",
        "\n",
        "# results\n",
        "print(\"Union of E and N is\", union_set)\n",
        "print(\"Intersection of E and N is\", intersection_set)\n",
        "print(\"Difference of E and N is\", difference_set)\n",
        "print(\"Symmetric difference of E and N is\", symmetric_difference_set)\n"
      ]
    }
  ]
}