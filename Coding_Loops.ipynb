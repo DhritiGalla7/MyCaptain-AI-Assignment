{
  "nbformat": 4,
  "nbformat_minor": 0,
  "metadata": {
    "colab": {
      "provenance": [],
      "authorship_tag": "ABX9TyNByVOeW8iRcXkywxGs8sfs"
    },
    "kernelspec": {
      "name": "python3",
      "display_name": "Python 3"
    },
    "language_info": {
      "name": "python"
    }
  },
  "cells": [
    {
      "cell_type": "code",
      "execution_count": null,
      "metadata": {
        "colab": {
          "base_uri": "https://localhost:8080/"
        },
        "id": "evp-Fg5U_NrC",
        "outputId": "1e10ef34-71b7-416a-9385-c47f40aeb6dc"
      },
      "outputs": [
        {
          "output_type": "stream",
          "name": "stdout",
          "text": [
            "Input: list1 = [12, -7, 5, 64, -14]\n",
            "Output: 12 5 64 \n",
            "Input: list2 = [12, 14, -95, 3]\n",
            "Output: 12 14 3 "
          ]
        }
      ],
      "source": [
        "def print_positive_numbers(lst):\n",
        "    for num in lst:\n",
        "        if num > 0:\n",
        "            print(num, end=\" \")\n",
        "\n",
        "# Input list\n",
        "list1 = [12, -7, 5, 64, -14]\n",
        "list2 = [12, 14, -95, 3]\n",
        "\n",
        "# Output for 1\n",
        "print(\"Input: list1 =\", list1)\n",
        "print(\"Output:\", end=\" \")\n",
        "print_positive_numbers(list1)\n",
        "\n",
        "# Output for 2\n",
        "print(\"\\nInput: list2 =\", list2)\n",
        "print(\"Output:\", end=\" \")\n",
        "print_positive_numbers(list2)"
      ]
    }
  ]
}